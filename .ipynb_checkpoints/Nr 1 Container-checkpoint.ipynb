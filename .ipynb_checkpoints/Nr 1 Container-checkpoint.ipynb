{
 "cells": [
  {
   "cell_type": "markdown",
   "metadata": {},
   "source": [
    "# Container\n",
    "\n",
    "### Listen\n",
    "\n",
    "Listen sind geordnete Sammlungen von beliebigen Objekten.\n",
    "\n",
    "```python\n",
    "[a, b, c, ...]\n",
    "```\n",
    "\n",
    "-   Eine Liste ist eine Aneinanderreihung beliebiger Objekte, welche durch Kommata getrennt sind.\n",
    "-   Eine Liste ist in eckige Klammern `[.., ..]` eingeschlossen.\n",
    "-   Elemente sind geordnet (daher sortierbar)\n",
    "-   Sie sind _mutable_ also veränderbar."
   ]
  },
  {
   "cell_type": "code",
   "execution_count": null,
   "metadata": {},
   "outputs": [],
   "source": [
    "a = [3, False, 1.4, \"Your mother was a hamster\", \"Your father smelt of elderberries\"]\n",
    "a"
   ]
  },
  {
   "cell_type": "code",
   "execution_count": null,
   "metadata": {},
   "outputs": [],
   "source": [
    "type(a)"
   ]
  },
  {
   "cell_type": "markdown",
   "metadata": {},
   "source": [
    "-   Obwohl Listen beliebige Objekte aufnehmen können, ist die Haupt-Anwendung die Verwaltung einer **variablen Anzahl** von Objekten **eines einzelnen Typs** oder eng verwandter Typen (z.B. Integers und Floats).\n",
    "\n",
    "Länge der Liste:"
   ]
  },
  {
   "cell_type": "code",
   "execution_count": null,
   "metadata": {},
   "outputs": [],
   "source": [
    "len(a)"
   ]
  },
  {
   "cell_type": "markdown",
   "metadata": {},
   "source": [
    "#### Zugriff auf Listen-Elemente\n",
    "\n",
    "```python\n",
    "liste[index]\n",
    "```\n",
    "\n",
    "Zugriff auf Listenelemente geht über die Angabe des Index in eckigen Klammern. `liste` und `index` sind Ausdrücke, die zu einer Liste bzw. einem Integer ausgewertet werden.\n",
    "\n",
    "_Anmerkung_: Direkt anschließende eckige Klammern sind im allgemeinen ein Index-Zugriff."
   ]
  },
  {
   "cell_type": "code",
   "execution_count": null,
   "metadata": {},
   "outputs": [],
   "source": [
    "a[0]"
   ]
  },
  {
   "cell_type": "code",
   "execution_count": null,
   "metadata": {},
   "outputs": [],
   "source": [
    "a[2]"
   ]
  },
  {
   "cell_type": "markdown",
   "metadata": {},
   "source": [
    "Negative Indizes zählen von rechts:"
   ]
  },
  {
   "cell_type": "code",
   "execution_count": null,
   "metadata": {},
   "outputs": [],
   "source": [
    "a[-1]"
   ]
  },
  {
   "cell_type": "markdown",
   "metadata": {},
   "source": [
    "#### Teil-Listen (Slices)\n",
    "\n",
    "```python\n",
    "liste[start:stop]\n",
    "```\n",
    "\n",
    "Teil-Listen können extrahiert werden, indem Start- und End-Indizes angegeben werden."
   ]
  },
  {
   "cell_type": "code",
   "execution_count": null,
   "metadata": {},
   "outputs": [],
   "source": [
    "a[2:4]"
   ]
  },
  {
   "cell_type": "code",
   "execution_count": null,
   "metadata": {},
   "outputs": [],
   "source": [
    "a[0:-2]"
   ]
  },
  {
   "cell_type": "code",
   "execution_count": null,
   "metadata": {},
   "outputs": [],
   "source": [
    "a[3:]"
   ]
  },
  {
   "cell_type": "markdown",
   "metadata": {},
   "source": [
    "Achtung: `a[2:4] == [a[2], a[3]]`, d.h. der obere Index gehört selbst nicht zum Slice.\n",
    "\n",
    "Wird einer der Indizes weggelassen, starten Slices am Anfang oder gehen bis zum Ende:"
   ]
  },
  {
   "cell_type": "code",
   "execution_count": null,
   "metadata": {},
   "outputs": [],
   "source": [
    "a[:2]"
   ]
  },
  {
   "cell_type": "code",
   "execution_count": null,
   "metadata": {},
   "outputs": [],
   "source": [
    "a[2:]"
   ]
  },
  {
   "cell_type": "code",
   "execution_count": null,
   "metadata": {},
   "outputs": [],
   "source": [
    "a[:]"
   ]
  },
  {
   "cell_type": "markdown",
   "metadata": {},
   "source": [
    "#### Slices mit Schrittweite\n",
    "\n",
    "```python\n",
    "liste[start:stop:step]\n",
    "```"
   ]
  },
  {
   "cell_type": "code",
   "execution_count": null,
   "metadata": {},
   "outputs": [],
   "source": [
    "a[0:4:2]"
   ]
  },
  {
   "cell_type": "code",
   "execution_count": null,
   "metadata": {},
   "outputs": [],
   "source": [
    "a[::2]"
   ]
  },
  {
   "cell_type": "code",
   "execution_count": null,
   "metadata": {},
   "outputs": [],
   "source": [
    "a[1::2]"
   ]
  },
  {
   "cell_type": "markdown",
   "metadata": {},
   "source": [
    "Strings können indiziert werden wie Listen:"
   ]
  },
  {
   "cell_type": "code",
   "execution_count": null,
   "metadata": {},
   "outputs": [],
   "source": [
    "s = \"abcdefghi\"\n",
    "s[2:6]"
   ]
  },
  {
   "cell_type": "markdown",
   "metadata": {},
   "source": [
    "Strings sind unveränderlich:"
   ]
  },
  {
   "cell_type": "code",
   "execution_count": null,
   "metadata": {},
   "outputs": [],
   "source": [
    "s[3] = 'x'"
   ]
  },
  {
   "cell_type": "markdown",
   "metadata": {},
   "source": [
    "#### Listen zusammenfügen\n",
    "\n",
    "```python\n",
    "liste1 + liste2\n",
    "```"
   ]
  },
  {
   "cell_type": "code",
   "execution_count": null,
   "metadata": {},
   "outputs": [],
   "source": [
    "a + [True, 10]"
   ]
  },
  {
   "cell_type": "markdown",
   "metadata": {},
   "source": [
    "#### Testen, ob ein Element in einer Liste enthalten ist\n",
    "\n",
    "```python\n",
    "wert in liste\n",
    "```"
   ]
  },
  {
   "cell_type": "code",
   "execution_count": null,
   "metadata": {},
   "outputs": [],
   "source": [
    "False in a"
   ]
  },
  {
   "cell_type": "code",
   "execution_count": null,
   "metadata": {},
   "outputs": [],
   "source": [
    "100 in a"
   ]
  },
  {
   "cell_type": "markdown",
   "metadata": {},
   "source": [
    "#### In-place Modifikation\n",
    "\n",
    "Listen sind veränderliche Werte, d.h. sie können nach ihrer Konstruktion im Speicher bearbeitet werden, z.B. über Zuweisungen an bestimmte Listen-Indizes:"
   ]
  },
  {
   "cell_type": "code",
   "execution_count": null,
   "metadata": {},
   "outputs": [],
   "source": [
    "a = [3, False, 1.4, \"Brian\"]"
   ]
  },
  {
   "cell_type": "code",
   "execution_count": null,
   "metadata": {},
   "outputs": [],
   "source": [
    "a[1] = -1\n",
    "a"
   ]
  },
  {
   "cell_type": "markdown",
   "metadata": {},
   "source": [
    "_Bemerkung_: Das weist also nicht dem Namen `a[1]` den Wert -1 zu, wie bisher bei Zuweisungen erklärt, sondern ändert _in_ der Variablen a an der Stelle 1 den Wert zu -1.\n",
    "\n",
    "#### Anhängen an eine Liste\n",
    "\n",
    "```python\n",
    "liste.append(value)\n",
    "```"
   ]
  },
  {
   "cell_type": "code",
   "execution_count": null,
   "metadata": {},
   "outputs": [],
   "source": [
    "a.append(True)\n",
    "a"
   ]
  },
  {
   "cell_type": "markdown",
   "metadata": {},
   "source": [
    "#### Entfernen eines Elements\n",
    "\n",
    "```python\n",
    "value = liste.pop()\n",
    "```\n",
    "\n",
    "`pop` entfernt ein Element vom Ende der Liste und liefert dieses zurück."
   ]
  },
  {
   "cell_type": "code",
   "execution_count": null,
   "metadata": {},
   "outputs": [],
   "source": [
    "v = a.pop()\n",
    "v"
   ]
  },
  {
   "cell_type": "code",
   "execution_count": null,
   "metadata": {},
   "outputs": [],
   "source": [
    "a"
   ]
  },
  {
   "cell_type": "markdown",
   "metadata": {},
   "source": [
    "Das geht auch mit einem Index:"
   ]
  },
  {
   "cell_type": "code",
   "execution_count": null,
   "metadata": {},
   "outputs": [],
   "source": [
    "a.pop(1)"
   ]
  },
  {
   "cell_type": "code",
   "execution_count": null,
   "metadata": {},
   "outputs": [],
   "source": [
    "a"
   ]
  },
  {
   "cell_type": "markdown",
   "metadata": {},
   "source": [
    "```python\n",
    "liste.remove(element)\n",
    "```\n",
    "\n",
    "entfernt das erste Auftreten von `element` in `liste`."
   ]
  },
  {
   "cell_type": "code",
   "execution_count": null,
   "metadata": {},
   "outputs": [],
   "source": [
    "a.remove(3)\n",
    "a"
   ]
  },
  {
   "cell_type": "markdown",
   "metadata": {},
   "source": [
    "Manche Operationen gibt es sowohl als in-place als auch als out-of-place Version.\n",
    "\n",
    "#### Sortieren von Listen\n",
    "\n",
    "```python\n",
    "sorted(liste)\n",
    "```\n",
    "\n",
    "`sorted` erzeugt eine neue Liste, die die Elemente in sortierter Reihenfolge enthält. Die ursprüngliche Liste bleibt unverändert.\n",
    "\n",
    "```python\n",
    "liste.sort()\n",
    "```\n",
    "\n",
    "`sort` ändert die Liste direkt."
   ]
  },
  {
   "cell_type": "code",
   "execution_count": null,
   "metadata": {},
   "outputs": [],
   "source": [
    "a = [1, 3, 2, -1]\n",
    "sorted(a)"
   ]
  },
  {
   "cell_type": "code",
   "execution_count": null,
   "metadata": {},
   "outputs": [],
   "source": [
    "a"
   ]
  },
  {
   "cell_type": "code",
   "execution_count": null,
   "metadata": {},
   "outputs": [],
   "source": [
    "a.sort()\n",
    "a"
   ]
  },
  {
   "cell_type": "markdown",
   "metadata": {},
   "source": [
    "### Zuweisungen und veränderliche Werte"
   ]
  },
  {
   "cell_type": "code",
   "execution_count": null,
   "metadata": {},
   "outputs": [],
   "source": [
    "a = [1, 2, 3]\n",
    "b = a\n",
    "b.append(4)\n",
    "b"
   ]
  },
  {
   "cell_type": "code",
   "execution_count": null,
   "metadata": {},
   "outputs": [],
   "source": [
    "a"
   ]
  },
  {
   "cell_type": "code",
   "execution_count": null,
   "metadata": {},
   "outputs": [],
   "source": [
    "a is b"
   ]
  },
  {
   "cell_type": "markdown",
   "metadata": {},
   "source": [
    "Einige nützliche Funktionen und Methoden verwenden Listen als Übergabeparameter oder Rückgabewert"
   ]
  },
  {
   "cell_type": "code",
   "execution_count": null,
   "metadata": {},
   "outputs": [],
   "source": [
    "liste = \"What's-so-funny-about-Biggus-Diggus?\".split(\"-\")\n",
    "print(liste)\n",
    "string = \" \".join(liste)\n",
    "print(string)"
   ]
  },
  {
   "cell_type": "markdown",
   "metadata": {},
   "source": [
    "`b` ist ein neuer Name für **dasselbe Objekt**, das `a` referenziert. Wird dieses z.B. über `b.append` verändert, so ändert sich auch `a`.\n",
    "\n",
    "### Tupel\n",
    "\n",
    "```python\n",
    "(a, b, c, ...)\n",
    "```\n",
    "\n",
    "-   Ein Tupel ist eine Aneinanderreihung beliebiger Objekte, welche durch Kommata getrennt sind.\n",
    "-   Ein Tupel ist in runde Klammern `(.., ..)` eingeschlossen.\n",
    "-   Elemente ohne Ordnung (aber einer Reihenfolge)\n",
    "-   sie sind _immutable_ also unveränderbar"
   ]
  },
  {
   "cell_type": "code",
   "execution_count": null,
   "metadata": {},
   "outputs": [],
   "source": [
    "a = (1, 2, 3)\n",
    "a[1] = 10"
   ]
  },
  {
   "cell_type": "markdown",
   "metadata": {},
   "source": [
    "-   Die Haupt-Anwendung ist die Verwaltung einer **festen Anzahl** von Objekten **beliebigen Typs**. Wir benutzen sie als **Struktur**\n",
    "\n",
    "-   Ein Tupel mit einem einzelnen Element benötigt ein zusätzliches Komma:"
   ]
  },
  {
   "cell_type": "code",
   "execution_count": null,
   "metadata": {},
   "outputs": [],
   "source": [
    "a = (10,)\n",
    "a"
   ]
  },
  {
   "cell_type": "code",
   "execution_count": null,
   "metadata": {},
   "outputs": [],
   "source": [
    "a = (10)\n",
    "a"
   ]
  },
  {
   "cell_type": "markdown",
   "metadata": {},
   "source": [
    "#### Pattern Matching\n",
    "\n",
    "Tupel werden vor allem für _Struktur_ benutzt. Bei der Zuweisung können damit direkt einzelne Elemente zugewiesen werden.\n",
    "\n",
    "_Beispiel_:"
   ]
  },
  {
   "cell_type": "code",
   "execution_count": null,
   "metadata": {},
   "outputs": [],
   "source": [
    "tup = (5, 7)\n",
    "first, second = tup\n",
    "first"
   ]
  },
  {
   "cell_type": "markdown",
   "metadata": {},
   "source": [
    "Das ist insbesondere interessant für Funktionen, die so mehr als einen Rückgabewert haben können.\n",
    "\n",
    "### Dictionaries (Wörterbücher)\n",
    "\n",
    "```python\n",
    "{key1: value1, key2: value2, ...}\n",
    "```\n",
    "\n",
    "-   Dictionaries sind **Assoziationen** der Form `key: value`.\n",
    "-   Als `key` können alle sogenannten **hashable objects** verwendet werden. Dazu gehören insbesondere Objekte aller eingebauten **nicht-veränderlichen** Typen.\n",
    "-   `value` kann beliebigen Typ haben, also auch veränderlich sein."
   ]
  },
  {
   "cell_type": "code",
   "execution_count": null,
   "metadata": {},
   "outputs": [],
   "source": [
    "d = {1: 10, 0b101010: [True, False], (1, 2, 3): \"Møøse\"}"
   ]
  },
  {
   "cell_type": "markdown",
   "metadata": {},
   "source": [
    "**Zugriff** funktioniert, wie bei Listen und Tupeln, über `[]`. Zugriff auf Dictionaries ist i.A. sehr schnell."
   ]
  },
  {
   "cell_type": "code",
   "execution_count": null,
   "metadata": {},
   "outputs": [],
   "source": [
    "d[(1,2,3)]"
   ]
  },
  {
   "cell_type": "markdown",
   "metadata": {},
   "source": [
    "Beim Zugriff auf ein nicht existenten key wird ein neuer Eintrag erzeugt"
   ]
  },
  {
   "cell_type": "code",
   "execution_count": null,
   "metadata": {},
   "outputs": [],
   "source": [
    "d['zwei'] = 20\n",
    "d"
   ]
  },
  {
   "cell_type": "code",
   "execution_count": null,
   "metadata": {},
   "outputs": [],
   "source": [
    "d[42].append('Neihter')\n",
    "d"
   ]
  },
  {
   "cell_type": "markdown",
   "metadata": {},
   "source": [
    "Nicht alle Objekte sind _hashable_ (benutzbar als key):"
   ]
  },
  {
   "cell_type": "code",
   "execution_count": null,
   "metadata": {},
   "outputs": [],
   "source": [
    "a = [1, 2, 3]\n",
    "d[a] = 0"
   ]
  },
  {
   "cell_type": "markdown",
   "metadata": {},
   "source": [
    "_Grundregel_: selbst veränderliche (mutable) Objekte können nicht als key benutzt werden.\n",
    "\n",
    "**Erweitern**:\n",
    "Dictionaries können mittels der Objekt-Methode\n",
    "\n",
    "```python\n",
    "dict.update()\n",
    "```\n",
    "\n",
    "aneinander gehängt werden\n",
    "_Vorsicht_: Doppelt auftretenden Indizes werden überschrieben!"
   ]
  },
  {
   "cell_type": "code",
   "execution_count": null,
   "metadata": {},
   "outputs": [],
   "source": [
    "d1 = {'zwei':5,'x':44}\n",
    "d.update(d1)\n",
    "d"
   ]
  },
  {
   "cell_type": "markdown",
   "metadata": {},
   "source": [
    "**Entnehmen** (Löschen und Zurückgeben) von Einträgen\n",
    "\n",
    "```python\n",
    "dict.pop()\n",
    "```"
   ]
  },
  {
   "cell_type": "code",
   "execution_count": null,
   "metadata": {},
   "outputs": [],
   "source": [
    "d.pop('zwei')"
   ]
  },
  {
   "cell_type": "code",
   "execution_count": null,
   "metadata": {},
   "outputs": [],
   "source": [
    "d"
   ]
  }
 ],
 "metadata": {
  "kernel_spec": {
   "display_name": "Python 3",
   "name": "python3"
  },
  "kernelspec": {
   "display_name": "Python 3",
   "language": "python",
   "name": "python3"
  },
  "language_info": {
   "codemirror_mode": {
    "name": "ipython",
    "version": 3
   },
   "file_extension": ".py",
   "mimetype": "text/x-python",
   "name": "python",
   "nbconvert_exporter": "python",
   "pygments_lexer": "ipython3",
   "version": "3.7.4"
  },
  "title": "Container"
 },
 "nbformat": 4,
 "nbformat_minor": 2
}
