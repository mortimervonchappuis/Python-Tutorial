{
 "cells": [
  {
   "cell_type": "markdown",
   "metadata": {},
   "source": [
    "### Kontrollstrukturen\n",
    "\n",
    "Kontrollstrukturen ermöglichen es Befehle nur dann auszuführen, wenn eine Bedingung erfüllt wird. Diese Bedingung ist in der Regel vom Typ `bool`. Eine Kontrollstruktur besteht aus einem Operator, einer Bedingung, und einem Block, welcher die von der Bedingung abhängigen Befehle beinhaltet.\n",
    "\n",
    "~~~python\n",
    "Operator Bedingung:\n",
    "    Befehl 1\n",
    "    Befehl 2\n",
    "    Befehl 3\n",
    "    ...\n",
    "~~~\n",
    "\n",
    "#### `if`, `elif`, `else`\n",
    "\n",
    "~~~python\n",
    "if this:\n",
    "    do_something()\n",
    "elif that:\n",
    "    do_something_else()\n",
    "else:\n",
    "    do_something_completly_different()\n",
    "~~~\n",
    "\n",
    "Die `if`-Abfrage überprüft eine Bedingung und führt den zugehörigen Block für den Fall, dass sie erfüllt wird aus. Wird eine `if`-Abfrage nicht ausgeführt so kann eine angehangene `elif`-Abfrage (else if) ausgeführt werden, sollte ihre Bedingung erfüllt werden. Hat man ein `else` angehangen und die vorherigen Bedingungen werden nicht erfüllt, so wird der Block, welcher dem `else` zugeordnet ist ausgeführt."
   ]
  },
  {
   "cell_type": "code",
   "execution_count": null,
   "metadata": {},
   "outputs": [],
   "source": [
    "if 2 < 3:\n",
    "    print(\"2 ist tatsächlich kleiner als 3.\")\n",
    "elif 2 == 3:\n",
    "    print(\"2 ist wohl gleich 3.\")\n",
    "else:\n",
    "    print(\"2 ist anscheinend größer als 3.\")"
   ]
  },
  {
   "cell_type": "markdown",
   "metadata": {},
   "source": [
    "#### `while`\n",
    "\n",
    "Durch `while` definieren wir eine Schleife, deren Block solange ausgeführt wird, bis ihre Bedingung nicht mehr erfüllt wird. Eine Schleife deren Bedingung niemals erfüllt wird, nennen wir Endlosschleife."
   ]
  },
  {
   "cell_type": "code",
   "execution_count": null,
   "metadata": {
    "scrolled": true
   },
   "outputs": [],
   "source": [
    "counter = 10\n",
    "while counter >= 0:\n",
    "    print(counter)\n",
    "    counter -= 1\n",
    "print(\"BOOOM!\")"
   ]
  },
  {
   "cell_type": "code",
   "execution_count": null,
   "metadata": {},
   "outputs": [],
   "source": [
    "while True:\n",
    "    print(input(\"Wann sind wir endlich da? \"))"
   ]
  },
  {
   "cell_type": "markdown",
   "metadata": {},
   "source": [
    "**`for`**\n",
    "\n",
    "~~~python\n",
    "for objekt in objekte:\n",
    "    do_stuff(obj)\n",
    "~~~\n",
    "\n",
    "Häufig möchten wir über eine Vorgegebene Menge an Objekten iterieren. Dazu können wir eine `for`-Schleife verwenden. Für jedes Objekt in der angegebenen Menge (`tuple`, `dict`, `string`, `list`) wird eine variable `objekt` erstellt, welche im Schleifenkörper verwendet werden kann."
   ]
  },
  {
   "cell_type": "code",
   "execution_count": null,
   "metadata": {},
   "outputs": [],
   "source": [
    "for char in \"BRIAN\":\n",
    "    print(char)"
   ]
  },
  {
   "cell_type": "code",
   "execution_count": null,
   "metadata": {},
   "outputs": [],
   "source": [
    "for a, b in [(0, \"a\"), (1, \"b\"), (2, \"c\")]:\n",
    "    print(\"index: {} letter: {}\".format(a, b))"
   ]
  },
  {
   "cell_type": "markdown",
   "metadata": {},
   "source": [
    "**`range` , `zip` und `enumerate`**\n",
    "\n",
    "Es gibt einige nützliche Generatoren über welche man ebenfalls iterieren kann. Das `range` Objekt übernimmt 1, 2 oder drei `int` Werte.\n",
    "\n",
    "~~~python\n",
    "range(start, stop, step)\n",
    "~~~\n",
    "\n",
    "Wenn ***ein*** Wert angegeben wurde, generiert der Generator nacheinander alle Zahlen bis zum angegebenen Wert - 1."
   ]
  },
  {
   "cell_type": "code",
   "execution_count": null,
   "metadata": {
    "scrolled": true
   },
   "outputs": [],
   "source": [
    "for i in range(4):\n",
    "    print(i)"
   ]
  },
  {
   "cell_type": "markdown",
   "metadata": {},
   "source": [
    "Wenn **zwei** Werte übergeben werden, werden alle Ganzenzahlen vom Ersten bis zum Letzten - 1 generiert."
   ]
  },
  {
   "cell_type": "code",
   "execution_count": null,
   "metadata": {},
   "outputs": [],
   "source": [
    "for i in range(12, 16):\n",
    "    print(i)"
   ]
  },
  {
   "cell_type": "markdown",
   "metadata": {},
   "source": [
    "Ist ein **dritter** Wert angegeben, deternimiert dieser die Schrittweite."
   ]
  },
  {
   "cell_type": "code",
   "execution_count": null,
   "metadata": {},
   "outputs": [],
   "source": [
    "for i in range(5, 32, 8):\n",
    "    print(i)"
   ]
  },
  {
   "cell_type": "markdown",
   "metadata": {},
   "source": [
    "`zip` ist ein Generator, dem mehrere andere Generatoren, Tuple, Mengen etc. übergeben werden können. Beim n-ten Durchlauf werden die n-ten Objekte der einzelnen Generatoren als Tupel übergeben. Sobald der erste Generator keinen Ausgabe wert mehr hat, stoppt `zip`."
   ]
  },
  {
   "cell_type": "code",
   "execution_count": null,
   "metadata": {},
   "outputs": [],
   "source": [
    "for t in zip(range(0, 5, 1), range(0, 50, 10), range(0, 500, 100)):\n",
    "    print(t)"
   ]
  },
  {
   "cell_type": "code",
   "execution_count": null,
   "metadata": {},
   "outputs": [],
   "source": [
    "for a, b, c in zip(range(0, 5, 1), range(0, 50, 10), range(0, 500, 100)):\n",
    "    print(a + b + c)"
   ]
  },
  {
   "cell_type": "code",
   "execution_count": null,
   "metadata": {},
   "outputs": [],
   "source": [
    "string = \"SPALTER\"\n",
    "for index, char in zip(range(len(string)), string):\n",
    "    print(index, char)"
   ]
  },
  {
   "cell_type": "raw",
   "metadata": {},
   "source": [
    "Da das letzte Beispiel besonders häufig verwendet wird gibt es einen Generator `enumerate` welcher den index eines über gebenen Teilobjektes und das Teilobjekt als Tuple zurückgibt."
   ]
  },
  {
   "cell_type": "code",
   "execution_count": null,
   "metadata": {},
   "outputs": [],
   "source": [
    "for t in enumerate(string):\n",
    "    print(t)"
   ]
  },
  {
   "cell_type": "code",
   "execution_count": null,
   "metadata": {},
   "outputs": [],
   "source": [
    "for idx, char in enumerate(string):\n",
    "    print(idx, char)"
   ]
  },
  {
   "cell_type": "markdown",
   "metadata": {},
   "source": [
    "Das `dict` Objekt liefert einige Methoden, welche als Generatoren für den Dictionaryinhalt fungieren."
   ]
  },
  {
   "cell_type": "code",
   "execution_count": null,
   "metadata": {},
   "outputs": [],
   "source": [
    "d = {\"null\": 0, \"eins\": 1, \"zwei\": 2, \"drei\": 3}\n",
    "\n",
    "for char in d.keys():\n",
    "    print(char)"
   ]
  },
  {
   "cell_type": "code",
   "execution_count": null,
   "metadata": {},
   "outputs": [],
   "source": [
    "for num in d.values():\n",
    "    print(num)"
   ]
  },
  {
   "cell_type": "code",
   "execution_count": null,
   "metadata": {},
   "outputs": [],
   "source": [
    "for char, num in d.items():\n",
    "    print(\"{} = {}\".format(char, num))"
   ]
  }
 ],
 "metadata": {
  "kernelspec": {
   "display_name": "Python 3",
   "language": "python",
   "name": "python3"
  },
  "language_info": {
   "codemirror_mode": {
    "name": "ipython",
    "version": 3
   },
   "file_extension": ".py",
   "mimetype": "text/x-python",
   "name": "python",
   "nbconvert_exporter": "python",
   "pygments_lexer": "ipython3",
   "version": "3.7.4"
  }
 },
 "nbformat": 4,
 "nbformat_minor": 2
}
