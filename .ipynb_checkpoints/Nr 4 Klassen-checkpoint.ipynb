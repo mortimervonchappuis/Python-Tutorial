{
 "cells": [
  {
   "cell_type": "markdown",
   "metadata": {},
   "source": [
    "# Klassen  und Objektorientierte Programmierung\n",
    "\n",
    "Neben den Standartobjekten wie `int`, `string`, `list`, etc. können wir auch selbst erstellte Objekte werwenden. Dazu müssen wir eine Klasse schreiben, in welcher wir das Verhalten dieses Objektes definieren.\n",
    "\n",
    "\n",
    "Um ein Objekt der definierten Klasse zu erstellen, gebe ich den Namen der Klasse und in Klammern dahinter die zu übergebenden Parameter an."
   ]
  },
  {
   "cell_type": "code",
   "execution_count": 1,
   "metadata": {},
   "outputs": [],
   "source": [
    "class Person: # Namen von Klassen werden konventionell groß geschrieben.\n",
    "    def __init__(self, vn, nn): # Wird bei der Erstellung der Klasse aufgerufen.\n",
    "        self.vorname = vn # Speichert den bei der Erstellungen übergebenen Wert unter einem Namen ab.\n",
    "        self.nachname = nn # self ist das Object, welches durch __init__ initiiert wird.\n",
    "    \n",
    "    def introduce(self):\n",
    "        print(\"Mein Name ist {} {}!\".format(self.vorname, self.nachname))"
   ]
  },
  {
   "cell_type": "markdown",
   "metadata": {},
   "source": [
    "Um ein Objekt der definierten Klasse zu erstellen, gebe ich den Namen der Klasse und in Klammern dahinter die zu übergebenden Parameter an."
   ]
  },
  {
   "cell_type": "code",
   "execution_count": 2,
   "metadata": {},
   "outputs": [
    {
     "name": "stdout",
     "output_type": "stream",
     "text": [
      "Mein Name ist John Cleese!\n"
     ]
    }
   ],
   "source": [
    "obj = Person(\"John\", \"Cleese\")\n",
    "obj.introduce()"
   ]
  },
  {
   "cell_type": "markdown",
   "metadata": {},
   "source": [
    "Auf die im Objekt abgespeicherten Werte kann man auch außerhalb der Klassendefinition zugreifen. Diese Bestandteile eines Objektes werden *Attribute* genannt."
   ]
  },
  {
   "cell_type": "code",
   "execution_count": 3,
   "metadata": {},
   "outputs": [
    {
     "data": {
      "text/plain": [
       "'John'"
      ]
     },
     "execution_count": 3,
     "metadata": {},
     "output_type": "execute_result"
    }
   ],
   "source": [
    "obj.vorname"
   ]
  },
  {
   "cell_type": "markdown",
   "metadata": {},
   "source": [
    "Die Übergabe des Parameters `self` ist notwendig, wenn auf die im Objekt hinterlegten Attribute zugegriffen wird. Wie im obigen Beispiel gesehen muss für `self` beim Aufruf kein Wert ignoriert werden.\n",
    "\n",
    "### Beispiel\n",
    "\n",
    "Wir möchten mehrere Klassen zum Verschlüsseln von Texten erstellen. Dazu erstellen wir eine Klasse `Letter`, welche es uns ermöglichen soll, mit Buchstaben zu rechnen. Dazu definieren wir zum Einen die Addition eines `Letter` mit einem `int` als die Verschiebung des Buchstabens entlang des Alphabets um `int` Schritte $A + 0 = A, A + 1 = B, A + 2 = C... A + 24 = Y, A + 25 = Z, A + 26 = A$ und zum Anderen die Addition zweier `Letter` als die Verschiebung eines der Buchstaben entlang des Alphabets um den Index des anderen $A + A = A, A + B = B, C + D = F, B + Z = A$. Die Subtraktion implementieren wir ähnlich. Um einen Operator wie den Additionsoperator für eine Klasse zu definieren, benötigen wir die sog. *Magic Methods*.\n",
    "\n",
    "|Operator \t|Method\t\t\t\t\t\t\t\t\t\t|\n",
    "|-----------|-------------------------------------------|\n",
    "|+      \t|object.\\_\\_add\\_\\_(self, other)\t\t\t|\n",
    "|-      \t|object.\\_\\_sub\\_\\_(self, other)\t\t\t|\n",
    "|*      \t|object.\\_\\_mul\\_\\_(self, other)\t\t\t|\n",
    "|//      \t|object.\\_\\_floordiv\\_\\_(self, other)\t\t|\n",
    "|/      \t|object.\\_\\_tru\\e\\div\\_\\_(self, other)\t\t|\n",
    "|%      \t|object.\\_\\_mod\\_\\_(self, other)\t\t\t|\n",
    "|**      \t|object.\\_\\_pow\\_\\_(self, other[, modulo])\t|\n",
    "|<<      \t|object.\\_\\_lshift\\_\\_(self, other)\t\t\t|\n",
    "|>>      \t|object.\\_\\_rshift\\_\\_(self, other)\t\t\t|\n",
    "|&      \t|object.\\_\\_and\\_\\_(self, other)\t\t\t|\n",
    "|^      \t|object.\\_\\_xor\\_\\_(self, other)\t\t\t|\n",
    "||      \t|object.\\_\\_or\\_\\_(self, other) \t\t\t|\n",
    "|[]      \t|object.\\_\\_getitem\\_\\_(self, other) \t\t|\n",
    "|()      \t|object.\\_\\_call\\_\\_(self, other) \t\t    |\n",
    "|+=      \t|object.\\_\\_iadd\\_\\_(self, other)\t\t\t|\n",
    "|-=      \t|object.\\_\\_isub\\_\\_(self, other)\t\t\t|\n",
    "|*=      \t|object.\\_\\_imul\\_\\_(self, other)\t\t\t|\n",
    "|/=      \t|object.\\_\\_idiv\\_\\_(self, other)\t\t\t|\n",
    "|//= \t\t|object.\\_\\_ifloordiv\\_\\_(self, other)\t\t|\n",
    "|%= \t\t|object.\\_\\_imod\\_\\_(self, other)\t\t\t|\n",
    "|**= \t\t|object.\\_\\_ipow\\_\\_(self, other[, modulo])\t|\n",
    "|<<= \t\t|object.\\_\\_ilshift\\_\\_(self, other)\t\t|\n",
    "|>>= \t\t|object.\\_\\_irshift\\_\\_(self, other)\t\t|\n",
    "|&= \t\t|object.\\_\\_iand\\_\\_(self, other)\t\t\t|\n",
    "|^= \t\t|object.\\_\\_ixor\\_\\_(self, other)\t\t\t|\n",
    "||= \t\t|object.\\_\\_ior\\_\\_(self, other) \t\t\t|\n",
    "|- \t\t\t|object.\\_\\_neg\\_\\_(self)\t\t\t\t\t|\n",
    "|+ \t\t\t|object.\\_\\_pos\\_\\_(self)\t\t\t\t\t|\n",
    "|abs() \t\t|object.\\_\\_abs\\_\\_(self)\t\t\t\t\t|\n",
    "|~ \t\t\t|object.\\_\\_invert\\_\\_(self)\t\t\t\t|\n",
    "|complex() \t|object.\\_\\_complex\\_\\_(self)\t\t\t\t|\n",
    "|int() \t\t|object.\\_\\_int\\_\\_(self)\t\t\t\t\t|\n",
    "|long() \t|object.\\_\\_long\\_\\_(self)\t\t\t\t\t|\n",
    "|float() \t|object.\\_\\_float\\_\\_(self)\t\t\t\t\t|\n",
    "|oct() \t\t|object.\\_\\_oct\\_\\_(self)\t\t\t\t\t|\n",
    "|hex() \t\t|object.\\_\\_hex\\_\\_(self )\t\t\t\t\t|\n",
    "|< \t\t\t|object.\\_\\_lt\\_\\_(self, other)\t\t\t\t|\n",
    "|<= \t\t|object.\\_\\_le\\_\\_(self, other)\t\t\t\t|\n",
    "|== \t\t|object.\\_\\_eq\\_\\_(self, other)\t\t\t\t|\n",
    "|!= \t\t|object.\\_\\_ne\\_\\_(self, other)\t\t\t\t|\n",
    "|>= \t\t|object.\\_\\_ge\\_\\_(self, other)\t\t\t\t|\n",
    "|> \t\t\t|object.\\_\\_gt\\_\\_(self, other) \t\t\t|"
   ]
  },
  {
   "cell_type": "code",
   "execution_count": 4,
   "metadata": {},
   "outputs": [],
   "source": [
    "class Letter:\n",
    "    def __init__(self, val):\n",
    "        self.alpha = \"abcdefghijklmnopqrstuvwxyz\"\n",
    "        if type(val) == int:\n",
    "            self.char = self.alpha[val]\n",
    "            self.idx = val\n",
    "        elif type(val) == str:\n",
    "            self.char = val\n",
    "            self.idx = self.alpha.find(val)\n",
    "    \n",
    "    def __add__(self, other):\n",
    "        if type(other) == int:\n",
    "            return Letter((self.idx + other)%len(self.alpha))\n",
    "        elif type(other) == Letter:\n",
    "            return Letter((self.idx + other.idx)%len(self.alpha))\n",
    "\n",
    "    def __sub__(self, other):\n",
    "        if type(other) == int:\n",
    "            return Letter((self.idx - other)%len(self.alpha))\n",
    "        elif type(other) == Letter:\n",
    "            return Letter((self.idx - other.idx)%len(self.alpha))"
   ]
  },
  {
   "cell_type": "markdown",
   "metadata": {},
   "source": [
    "Bei der Initialisierung des Objektes wollen wir die Möglichkeit haben, entweder die alphabetarische Position des Objektes anzugeben oder den Buchstaben selbst. Für diese beiden Fällen wird in unserer`__init__` unterschieden. Das andere Objekt, mit welchem die Addition durchgeführt wird, wird als Parameter `other` mit übergeben. Auch hier ist die Namensgebung nur Konvention."
   ]
  },
  {
   "cell_type": "code",
   "execution_count": 5,
   "metadata": {},
   "outputs": [
    {
     "name": "stdout",
     "output_type": "stream",
     "text": [
      "d\n"
     ]
    }
   ],
   "source": [
    "a = Letter(\"a\")\n",
    "b = Letter(1)\n",
    "c = Letter(\"c\")\n",
    "print((a+b+c).char)"
   ]
  },
  {
   "cell_type": "markdown",
   "metadata": {},
   "source": [
    "## Aggregation\n",
    "\n",
    "In die Struktur einer Klasse eine andere einzubinden nennt sich *Aggregation* einer Klasse. Zur Demonstration möchten wir eine Klasse erstellen, mit welcher wir die Caesarverschlüsselung implementieren. Bei dieser Chiffre wird jeder Buchstabe des Klartextes $P$ (Plaintext) um den Schlüssel $K$ (Key) verschoben und bildet damit das verschlüsselte Chiffrat $C$ (Ciphertext).\n",
    "$$C_{i} = P_{i} + K$$\n",
    "Für die Entschlüsselung subtrahieren wir den Schlüssel einfach wieder. Als Parameter für die Initiierung wollen wir den Klartext und zum Ver- und Entschlüsseln einen Schlüssel übergeben. Um mit den Buchstaben des Klartextes rechnen zu können, verwenden wir die vorher implementierte `Letter`-Klasse.`Caesar` aggregiert also `Letter`."
   ]
  },
  {
   "cell_type": "code",
   "execution_count": 6,
   "metadata": {},
   "outputs": [
    {
     "name": "stdout",
     "output_type": "stream",
     "text": [
      "srjztrccpzsvczmvzegvrtvreusrjyzexknfsiztbjkfxvkyvi\n",
      "basicallyibeliveinpeaceandbashingtwobrickstogether\n"
     ]
    }
   ],
   "source": [
    "def sanitize(string): # Funktion um Leer- und Sonderzeichen zu entfernen\n",
    "    alpha = \"abcdefghijklmnopqrstuvwxyz\"\n",
    "    return \"\".join([char for char in string.lower() if char in alpha])\n",
    "\n",
    "class Caesar:\n",
    "    def __init__(self, text):\n",
    "        self.letters = [Letter(item) for item in sanitize(text)]\n",
    "    \n",
    "    def encryp(self, key):\n",
    "        self.letters = [item + key for item in self.letters]\n",
    "        return \"\".join([item.char for item in self.letters])\n",
    "    \n",
    "    def decryp(self, key):\n",
    "        self.letters = [item - key for item in self.letters]\n",
    "        return \"\".join([item.char for item in self.letters])\n",
    "\n",
    "string = \"Basically I belive in peace and bashing two bricks together.\"\n",
    "Julius = Caesar(string)\n",
    "print(Julius.encryp(17)) # Key = 17\n",
    "print(Julius.decryp(17))"
   ]
  },
  {
   "cell_type": "markdown",
   "metadata": {},
   "source": [
    "Als nächstes schauen wir uns die Vigenéreverschlüsselung an. Im Gegensatz zu Caesarchiffre nimmt die Vigenérechiffre keine ganze Zahl als Schlüssel entgegen, sondern ein Wort. Zur Verschlüsselung wird jedem Klartextbuchstaben ein Schlüsselwortbuchstabe zugeordnet. Ist das Ende des Wortes erreicht, so wird der Schlüssel zyklisch wiederholt. Anschließend werden die zugeordneten Buchstaben addiert und man erhält das Chiffrat. Zur Entschlüsselung verfährt man mit dem Chiffrat genauso wie mit dem Klartext bei der Verschlüsselung und subtrahiert die zugeordneten Schlüsselwortbuchstaben.\n",
    "\n",
    "`P: seeitoldyouiwasright`\n",
    "\n",
    "`K: karlmarxkarlmarxkarl`\n",
    "\n",
    "`C: cevtfocaioltiajosgye`\n",
    "\n",
    "$$C_{i} = P_{i} + K_{i mod |K|}$$\n",
    "\n",
    "$|K|$ bezeichnet die Länge des Schlüssels. Bei näherer Betrachtung ist zu bemerken, dass man prinzipiell mehrere Caesarverschlüsselungen mit den jeweils $|K|$ auseinanderliegenden Klartextbuchstaben und dem jeweiligen Schlüsselwortbuchstaben durchführt.\n",
    "\n",
    "`P: S eeitold Y ouiwasr I ght`\n",
    "\n",
    "`K: K arlmarx K arlmarx K arl`\n",
    "\n",
    "`C: C evtfoca I oltiajo S gye`\n",
    "\n",
    "Dies können wir uns zunutze machen, indem wir den Klartext pro Schlüsselwortbuchstaben in Substrings unterteilen, diese dann caesarverschlüsseln und sie anschließend wieder zusammensetzten. `Vigenere` aggregiert hierzu also `Caesar`.\n",
    "\n",
    "### Beispiel"
   ]
  },
  {
   "cell_type": "code",
   "execution_count": 7,
   "metadata": {},
   "outputs": [
    {
     "name": "stdout",
     "output_type": "stream",
     "text": [
      "seeitoldyouiwasright\n"
     ]
    }
   ],
   "source": [
    "class Vigenere:\n",
    "    def __init__(self, text):\n",
    "        self.text = text\n",
    "        self.letters = [Letter(item) for item in sanitize(text)]\n",
    "    \n",
    "    def encryp(self, key):\n",
    "        for idx, char in enumerate(sanitize(key)):\n",
    "            sub_string = \"\".join(self.text[idx::len(key)]) # Teilt den Text in |K| entfernte Buchstaben auf\n",
    "            Julius = Caesar(sub_string) # Übergibt den Substring an die Caesarklasse (Aggregation)\n",
    "            Julius.encryp(Letter(char)) # Verschlüsselt den Substring via Caesar\n",
    "            self.letters[idx::len(key)] = Julius.letters # Setzte die verschlüsselten Buchstaben wieder zurück ein\n",
    "            self.text = \"\".join([item.char for item in self.letters]) # Überschreibe den Textstring mit dem Chiffrat\n",
    "        return self.text\n",
    "    \n",
    "    def decryp(self, key):\n",
    "        for idx, char in enumerate(sanitize(key)):\n",
    "            sub_string = \"\".join(self.text[idx::len(key)])\n",
    "            Julius = Caesar(sub_string)\n",
    "            Julius.decryp(Letter(char))\n",
    "            self.letters[idx::len(key)] = Julius.letters\n",
    "            self.text = \"\".join([item.char for item in self.letters])\n",
    "        return self.text\n",
    "\n",
    "Blaise = Vigenere(\"cevtfocaioltiajosgye\")\n",
    "print(Blaise.decryp(\"KarlMarx\"))"
   ]
  },
  {
   "cell_type": "markdown",
   "metadata": {},
   "source": [
    "## Vererbung\n",
    "\n",
    "Klassen sind besonders hilfreich, wenn man Objekte für Daten einer speziefischen Kategorie erstellen möchte. Möchte man jedoch für eine spezielle Unterart eine eigene Klasse erstellen, die mit ihrer Überart vieles gemeinsam hat, können wir duch *Vererbung* vermeiden, einen Großteil des Codes neu schreiben zu müssen. Dabei wird der Code der übergeordneten Klasse vollständig für die untergeordnete übernommen. Anschließend können in der untergeordneten neue Methoden definiert und alte Methoden der übergeordneten für die untergeordnete durch Neudefinition überschrieben werden. Diese Änderungen sind natürlich nur für die untergeordnete Klasse gültig.\n",
    "\n",
    "### Beispiel Gruppe\n",
    "\n",
    "Vererbung wollen wir am Beispiel einer mathematischen Gruppe veranschaulichen. Eine Gruppe beinhaltet eine Menge und eine Verknüpfung, welche wir als $\\odot$ notieren. Wenn die folgenden Kriterien erfüllt werden, handelt es sich bei der Menge und der Verknüpfung um eine Gruppe.\n",
    "\n",
    "1. **Abgeschlossenheit:**\n",
    "\n",
    "    $\\forall a, b \\in G: (a \\odot b) \\in G$\n",
    "\n",
    "    Für alle Elemente aus der Menge unserer Gruppe muss auch das Ergebnis ihrer Verknüpfung in der Gruppe sein.\n",
    "\n",
    "\n",
    "2. **Assotiativität:**\n",
    "\n",
    "    $\\forall a, b, c \\in G: (a \\odot b) \\odot c = a \\odot (b \\odot c)$\n",
    "\n",
    "    Klammersetzung ist irrelevant.\n",
    "\n",
    "\n",
    "3. **Neutrales Element:**\n",
    "\n",
    "    $\\exists n \\in G, \\forall a \\in G: n \\odot a = a$\n",
    "\n",
    "    Es muss ein Neutrales Element in der Gruppe geben, welches kein Objekt aus der Gruppe durch eine Verknüpfung verändert.\n",
    "\n",
    "\n",
    "4. **Inverses Element:**\n",
    "\n",
    "    $\\forall a \\in G, \\exists \\bar{a} \\in G: a \\odot \\bar{a} = n$\n",
    "    \n",
    "    Für alle Elemente existiert ein Inverses Element, dass bei Verknüpfung das Neutrale Element ergibt."
   ]
  },
  {
   "cell_type": "code",
   "execution_count": 8,
   "metadata": {},
   "outputs": [
    {
     "name": "stdout",
     "output_type": "stream",
     "text": [
      "True\n",
      "True\n",
      "0\n",
      "True\n"
     ]
    },
    {
     "data": {
      "text/plain": [
       "3"
      ]
     },
     "execution_count": 8,
     "metadata": {},
     "output_type": "execute_result"
    }
   ],
   "source": [
    "class Group:\n",
    "    def __init__(self, M, V, **kwargs):\n",
    "        self.M = M\n",
    "        self.V = V\n",
    "        for key, val in kwargs.items():\n",
    "            setattr(self, key, val)\n",
    "        self.N = self.__neutral()\n",
    "        print(self.__closure())\n",
    "        print(self.__associative())\n",
    "        print(self.__neutral())\n",
    "        print(self.__inverse())\n",
    "        if not (self.__closure() and self.__associative() and self.N is not None and self.__inverse()):\n",
    "            raise EnvironmentError(\"Not a Group.\")\n",
    "    \n",
    "    def __closure(self):\n",
    "        for a in self.M:\n",
    "            for b in self.M:\n",
    "                if self.V(a, b) not in self.M:\n",
    "                    return False\n",
    "        return True\n",
    "    \n",
    "    def __associative(self):\n",
    "        for a in self.M:\n",
    "            for b in self.M:\n",
    "                for c in self.M:\n",
    "                    if self.V(a, self.V(b, c)) != self.V(self.V(a, b), c):\n",
    "                        return False\n",
    "        return True\n",
    "    \n",
    "    def __neutral(self):\n",
    "        for i, n in enumerate(self.M):\n",
    "            if all((self.V(n, a) == a for a in self.M)):\n",
    "                return n\n",
    "\n",
    "    def __inverse(self):\n",
    "        return all((self.invert(obj) is not None for obj in self.M))\n",
    "    \n",
    "    def invert(self, obj):\n",
    "        for a in self.M:\n",
    "            if self.V(obj, a) == self.N:\n",
    "                return a\n",
    "\n",
    "    def __getitem__(self, other):\n",
    "        res = self.N\n",
    "        for obj in other:\n",
    "            res = self.V(res, obj)\n",
    "        return res\n",
    "        \n",
    "G = Group([0, 1, 2, 3], lambda x, y: (x + y) % 4)\n",
    "G[1, 1, 1]"
   ]
  },
  {
   "cell_type": "code",
   "execution_count": 9,
   "metadata": {},
   "outputs": [
    {
     "name": "stdout",
     "output_type": "stream",
     "text": [
      "$\n"
     ]
    },
    {
     "ename": "KeyboardInterrupt",
     "evalue": "",
     "output_type": "error",
     "traceback": [
      "\u001b[0;31m---------------------------------------------------------------------------\u001b[0m",
      "\u001b[0;31mKeyboardInterrupt\u001b[0m                         Traceback (most recent call last)",
      "\u001b[0;32m<ipython-input-9-0f3f494f8f1e>\u001b[0m in \u001b[0;36m<module>\u001b[0;34m\u001b[0m\n\u001b[1;32m     10\u001b[0m     \u001b[0mclear_output\u001b[0m\u001b[0;34m(\u001b[0m\u001b[0;34m)\u001b[0m\u001b[0;34m\u001b[0m\u001b[0;34m\u001b[0m\u001b[0m\n\u001b[1;32m     11\u001b[0m     \u001b[0mprint\u001b[0m\u001b[0;34m(\u001b[0m\u001b[0;34m\"$\"\u001b[0m\u001b[0;34m)\u001b[0m\u001b[0;34m\u001b[0m\u001b[0;34m\u001b[0m\u001b[0m\n\u001b[0;32m---> 12\u001b[0;31m     \u001b[0msleep\u001b[0m\u001b[0;34m(\u001b[0m\u001b[0;36m0.5\u001b[0m\u001b[0;34m)\u001b[0m\u001b[0;34m\u001b[0m\u001b[0;34m\u001b[0m\u001b[0m\n\u001b[0m\u001b[1;32m     13\u001b[0m     \u001b[0mclear_output\u001b[0m\u001b[0;34m(\u001b[0m\u001b[0;34m)\u001b[0m\u001b[0;34m\u001b[0m\u001b[0;34m\u001b[0m\u001b[0m\n",
      "\u001b[0;31mKeyboardInterrupt\u001b[0m: "
     ]
    }
   ],
   "source": [
    "from os import system\n",
    "from time import sleep\n",
    "\n",
    "%lsmagic\n",
    "from IPython.display import display, clear_output\n",
    "\n",
    "while True:\n",
    "    print(\"#\")\n",
    "    sleep(0.5)\n",
    "    clear_output()\n",
    "    print(\"$\")\n",
    "    sleep(0.5)\n",
    "    clear_output()"
   ]
  }
 ],
 "metadata": {
  "kernelspec": {
   "display_name": "Python 3",
   "language": "python",
   "name": "python3"
  },
  "language_info": {
   "codemirror_mode": {
    "name": "ipython",
    "version": 3
   },
   "file_extension": ".py",
   "mimetype": "text/x-python",
   "name": "python",
   "nbconvert_exporter": "python",
   "pygments_lexer": "ipython3",
   "version": "3.7.3"
  }
 },
 "nbformat": 4,
 "nbformat_minor": 2
}
