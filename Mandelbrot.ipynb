{
 "cells": [
  {
   "cell_type": "markdown",
   "metadata": {},
   "source": [
    "# Mandelbrotmenge"
   ]
  },
  {
   "cell_type": "code",
   "execution_count": 1,
   "metadata": {},
   "outputs": [
    {
     "data": {
      "text/html": [
       "<iframe width=\"560\" height=\"315\" src=\"https://www.youtube.com/embed/dSA7OZHdaoA\" \n",
       "frameborder=\"0\" allowfullscreen></iframe>\n"
      ],
      "text/plain": [
       "<IPython.core.display.HTML object>"
      ]
     },
     "metadata": {},
     "output_type": "display_data"
    }
   ],
   "source": [
    "%%HTML\n",
    "<iframe width=\"560\" height=\"315\" src=\"https://www.youtube.com/embed/dSA7OZHdaoA\" \n",
    "frameborder=\"0\" allowfullscreen></iframe>"
   ]
  },
  {
   "cell_type": "markdown",
   "metadata": {},
   "source": [
    "## Einführung in komplexe Zahlen\n",
    "\n",
    "\n",
    "Für eine gegebene Zahl $x$ aus dem Raum der positiven reellen Zahlen $x \\in \\mathbb{R}^{+}$ ist es uns möglich, eine weitere Zahl $\\omega$ im Reellen zu finden $\\omega \\in \\mathbb{R}$, welche $\\sqrt{x} = \\omega$ oder auch alternativ $\\omega^{2} = x$ erfüllt. Ist $x$ jedoch negativ $x \\in \\mathbb{R}^{-}$ ist uns dies nicht möglich, da das Quadrat einer Zahl im Reelen nicht negativ werden kann. Deshalb sagen wir, dass für $\\sqrt{x} | x \\in \\mathbb{R}^{-}$ nicht definiert ist.\n",
    "\n",
    "Um diese Einschränkung zu umgehen erweitern wir unseren Zahlenraum durch das Einbinden einer neuen Zahl $i$, der sog. imaginären Zahl. In der Elektrowischenschaft und manchen Programmiersprachen wird diese auch manchmal als $j$ notiert, weshalb wir folglich mit der $j$-Notation arbeiten werden. Wir definieren dass $j^{2} = -1$ und folglich ist $\\sqrt{-1} = j$. Den Zahlen Raum der sich daraus ergibt nennen wir *Komplex* und notieren ihn als $\\mathbb{C}$. \n",
    "j lässt sich mit r kombinieren.\n",
    "Ein *komplexe Zahl* $c \\in \\mathbb{C}$ hat typischerweise die Form $a + bj$ wobei wir $a$ den *Realteil* und $b$ den *Imaginärteil* von $c$ nennen.\n",
    "\n",
    "Komplexe Zahlen können zum Beispiel hilfreich bei der Nullstellensuche einer Quadratischen Gleichung sein, die keine Lösung im Reelen hat. Für $x^{2} - 2x + 5 = 0$ erhalten wir die Nullstellen $x_{1, 2} = 1 \\pm \\sqrt{-4}$ welche im Reelen nicht existieren, aber im Komplexen lösbar sind.\n",
    "\n",
    ">$x_{1, 2} = 1 \\pm \\sqrt{-4}$\n",
    ">\n",
    ">$x_{1, 2} = 1 \\pm \\sqrt{4} \\cdot \\sqrt{-1}$\n",
    ">\n",
    ">$x_{1, 2} = 1 \\pm 2j$\n",
    "\n",
    "Im Komplexen lässt sich ähnlich *addieren, subtrahieren und multiplizieren* wie mit einer komplexen und einer reellen Variable. Für $c \\in \\mathbb{C}$ sind die Operationen $\\sqrt{c}, x^{c}, \\frac{x}{c}$ etwas aufwändiger und werden deshalb von uns nicht weiter betrachtet.\n",
    "\n",
    ">$(a + bj) + (c + dj) = (a + c) + (b + d)j$\n",
    ">\n",
    ">$(a + bj) - (c + dj) = (a - c) + (b - d)j$\n",
    ">\n",
    ">$(a + bj) \\cdot (c + dj) = (a \\cdot c + (b \\cdot d)j) + (a \\cdot d + b \\cdot c)j = (ac - bd) + (ad + bc)j$\n",
    "\n",
    " Als Betrag einer komplexen Zahl bezeichnen wir ihren Abstand zum Ursprung $|a+bj| = \\sqrt{a^{2}+b^{2}}$.\n",
    "\n",
    "## Python\n",
    "\n",
    "\n",
    "Python ermöglicht es uns mit komplexen Zahlen als builtin Datentyp zu rechnen.\n",
    "~~~python\n",
    "c = 3-2j\n",
    "~~~\n",
    "Um auf die Real- und Imaginärteile einer Zahl zuzugreifen können wir folgende Attribute verwenden.\n",
    "~~~python\n",
    "c.real\n",
    "c.imag\n",
    "~~~\n",
    "Den Betrag erhalten wir wie üblich mit der abs.funktion.\n",
    "~~~python\n",
    "abs(c)\n",
    "~~~\n",
    "Es folgen ein paar veranschaulichende Beispiele:"
   ]
  },
  {
   "cell_type": "code",
   "execution_count": 2,
   "metadata": {},
   "outputs": [
    {
     "name": "stdout",
     "output_type": "stream",
     "text": [
      "(-1+0j) -2.0 (-5-1j) 5.0\n"
     ]
    }
   ],
   "source": [
    "print(\n",
    "1j**2,\n",
    "(3-2j).imag,\n",
    "(2+3j)*(-1+1j),\n",
    "abs(3+4j))"
   ]
  },
  {
   "cell_type": "markdown",
   "metadata": {},
   "source": [
    "## Darstellung\n",
    "\n",
    "Die beiden Komponenten einer komplexen Zahl können wir als Punkt in einem zweidimensionalen Koordinatiensystem darstellen. Dabei bezeichnet die Horizontale Achse den Realteil ein einer Zahl und die Vertikale ihren Imaginärteil. Diese komplexe Zahlen ebene nennen wir auch *Gaußsche Zahlenebene*."
   ]
  },
  {
   "cell_type": "code",
   "execution_count": 3,
   "metadata": {},
   "outputs": [
    {
     "data": {
      "image/png": "[encoded data removed]",
      "text/plain": [
       "<Figure size 720x720 with 1 Axes>"
      ]
     },
     "metadata": {
      "needs_background": "light"
     },
     "output_type": "display_data"
    }
   ],
   "source": [
    "\"\"\"\n",
    "==========================\n",
    "DIESER CODE IST IRELEVANT!\n",
    "==========================\n",
    "\"\"\"\n",
    "\n",
    "%matplotlib inline\n",
    "from matplotlib import pyplot as plt\n",
    "from math import sqrt\n",
    "\n",
    "# Creating Plots\n",
    "fig = plt.figure(figsize=(10,10))\n",
    "ax = fig.add_subplot(1, 1, 1)\n",
    "\n",
    "# Creating Data\n",
    "re = [0, 2.1, -2, -1]\n",
    "im = [1, sqrt(2), 0, -2]\n",
    "labels = [\"$j$\", \"$2.1+\\sqrt{2}j$\", \"$-2$\", \"$-1-2j$\"]\n",
    "ticks = list(range(-3, 4))\n",
    "\n",
    "# Customizing y-axis ticks\n",
    "tick_labels = list(\"${} j$\".format(x) for x in range(-3, 4))\n",
    "plt.yticks(ticks, tick_labels)\n",
    "plt.tick_params(labelsize=16)\n",
    "\n",
    "\n",
    "# Move left y-axis and bottim x-axis to centre, passing through (0,0)\n",
    "ax.spines['left'].set_position('center')\n",
    "ax.spines['top'].set_position('center')\n",
    "\n",
    "# Eliminate upper and right axes\n",
    "ax.spines['right'].set_color('grey')\n",
    "ax.spines['bottom'].set_color('grey')\n",
    "\n",
    "# Show ticks in the left and lower axes only\n",
    "ax.xaxis.set_ticks_position('top')\n",
    "ax.yaxis.set_ticks_position('left')\n",
    "\n",
    "# Setting bounds for axes\n",
    "plt.xlim(-3, 3)\n",
    "plt.ylim(-3, 3)\n",
    "\n",
    "# Create grid and postition x-ticks\n",
    "plt.grid(True)\n",
    "ax.get_xaxis().set_tick_params(direction='in', pad=-25)\n",
    "\n",
    "# Create points and lables\n",
    "plt.scatter(re, im, color=\"#aa0000\", s=128)\n",
    "for x, y, label in zip(re, im, labels):\n",
    "    plt.annotate(label, xy=(x, y), xytext=(-10,10), textcoords='offset points', ha='right', va='bottom', size=24)\n",
    "\n",
    "# Show plot\n",
    "plt.show()"
   ]
  },
  {
   "cell_type": "markdown",
   "metadata": {},
   "source": [
    "## Mandelbrot Formel\n",
    "\n",
    "\n",
    "Wir definieren eine Sequenzformel (Reihe) $P_{c}(z)$ für $c, z \\in \\mathbb{C}$. Diese Formel hat einen fixen wert $c$ und einen Zustand $z$. Zu Beginn ist unser Zustand $z_{0} = 0$. Alle nachfolgenden Zuständ sind definiert durch $z_{n+1}=z_{n}^{2}+c$. Damit ist $P_{c}: z \\mapsto z^{2}+c$. Die für ein gegebenes $c$ entstehenden Zustände $z_{n}$ ergeben unserre Sequenz. Das generieren von $n$ Sequenzelementen nennen wir Iteration über $P_{c}$ und notieren es als $P_{c}^{n}$.\n",
    "\n",
    "### Beispiel\n",
    "\n",
    "\n",
    "\n",
    "| $n$  |||$c$    |$z_{n}$|$z_{n}^{2}+c$|||$c$    |$z_{n}$|$z_{n}^{2}+c$    |\n",
    "|------|-|-------|-------|-------------|-|-------|-------|-----------------|\n",
    "|  $0$ |||$- 1$  |$0    $|$0^{2} - 1$  |||$1-j$  | $0$   |$0^{2}+1-j$      |\n",
    "|$1$   |||$- 1$  |$   -1$|$(-1)^{2}-1$ |||$1-j$  |  $1-j$|$(1-j)^{2}+1-j$  |\n",
    "|  $2$ |||$- 1$  |$0    $|$0^{2} - 1$  |||$1-j$  | $1-3j$|$(1-3j)^{2}+1-j$ |\n",
    "|$3  $ |||$- 1$  |$   -1$|$(-1)^{2}-1$ |||$1-j$  |$-7-7j$|$(-7-7j)^{2}+1-j$|\n",
    "\n",
    "\n",
    "Wir stellen fest, dass die Sequenz für einige Punkte in einem *beschränkten* Bereich bleiben $(\\exists s \\in \\mathbb{R^{+}}:\\lim_{n \\to \\infty} |P_{c}^{n}| \\leqslant s)$, wärend andere Stetig wachsen und ins Unendliche *konvergieren* $(\\lim_{n \\to \\infty} |P_{c}^{n}| = \\infty)$. Alle Punkte, deren Sequenz beschränkt bleibt sind Teil der Mandelbrotmenge $\\mathrm{M}$. Die formale Definition lautet:\n",
    "\n",
    "$$P_{c}: z_{n} \\mapsto z_{n}^{2}+c$$\n",
    "\n",
    "$$\\mathrm{M} = \\{c \\in \\mathbb{C} | (\\exists s \\in \\mathbb{R}^{+}) (\\forall n \\in \\mathbb{N}) (|P_{c}^{n}(0)|\\leqslant s)\\}$$\n",
    "\n",
    "## Programmierung\n",
    "\n",
    "Da wir nicht ohne weiteres feststellen können, ob die Sequenz für eine gegebenes $c \\in \\mathbb{C}$ konvergiert, verwenden wir zwei Tricks.\n",
    "Es lässt sich beweisen, dass sollte für ein Sequenzelement $|P_{c}^{n}|>2$ gelten, ergo würde $P_{c}^{n}$ außerhalb des Kreises um den Ursprung der Gaußschenzahlenebene mit Radius zwei liegen, die Iteration über $P_{c}{n}$ definitiv konvergieren wird und damit $c \\not \\in \\mathrm{M}$ liegen kann.\n",
    "Da wir keine unendliche Sequenz erstellen können um festzustellen ob $P_{c}^{n}$ jemals außerhalb dieser Begrenzung liegen wird, legen wir eine maximale Anzahl an Iterationen fest. Sollte nach der letzten Iteration eine Sequenz unsere Begrenzung noch nicht überschrittern haben, so können wir sehr wahrscheinlich davon ausgehen, dass $c \\in \\mathrm{M}$ gilt.\n",
    "\n",
    "$$ c \\in \\mathrm{\\hat{M}} := \\limsup_{n \\to N} |P_{c}^{n}|\\leqslant 2 $$\n",
    "\n",
    "Wobei $N$ die maximale Anzahl an Iterationen und $\\mathrm{\\hat{M}}$ unsere *Aproximation* (Annäherung) an die tatsächliche Mandelbrotmenge ist.\n",
    "\n",
    "Um nun zu bestimmen, ob eine gegebene komplexe Zahl $c \\in \\mathrm{\\hat{M}}$ liegt können wir folgenden Code verwenden. "
   ]
  },
  {
   "cell_type": "code",
   "execution_count": 4,
   "metadata": {},
   "outputs": [
    {
     "name": "stdout",
     "output_type": "stream",
     "text": [
      "91.2 ms ± 1.55 ms per loop (mean ± std. dev. of 7 runs, 10 loops each)\n",
      "                                                                                                                                                                \n",
      "                                                                                                                                                                \n",
      "                                                                                                                                                                \n",
      "                                                                                                                                                                \n",
      "                                                                                                                                                                \n",
      "                                                                                                                                                                \n",
      "                                                                          ⬛                                                                                    \n",
      "                                                                        ⬛⬛⬛                                                                                  \n",
      "                                                                        ⬛⬛⬛                                                                                  \n",
      "                                                                        ⬛⬛⬛                                                                                  \n",
      "                                                                          ⬛                                                                                    \n",
      "                                                          ⬛      ⬛⬛⬛⬛⬛⬛⬛⬛⬛⬛                                                                          \n",
      "                                                          ⬛⬛⬛⬛⬛⬛⬛⬛⬛⬛⬛⬛⬛⬛⬛  ⬛                                                                    \n",
      "                                                          ⬛⬛⬛⬛⬛⬛⬛⬛⬛⬛⬛⬛⬛⬛⬛⬛⬛                                                                    \n",
      "                                                      ⬛⬛⬛⬛⬛⬛⬛⬛⬛⬛⬛⬛⬛⬛⬛⬛⬛⬛⬛                                                                    \n",
      "                                                      ⬛⬛⬛⬛⬛⬛⬛⬛⬛⬛⬛⬛⬛⬛⬛⬛⬛⬛⬛⬛                                                                  \n",
      "                                                      ⬛⬛⬛⬛⬛⬛⬛⬛⬛⬛⬛⬛⬛⬛⬛⬛⬛⬛⬛⬛⬛                                                                \n",
      "                                        ⬛          ⬛⬛⬛⬛⬛⬛⬛⬛⬛⬛⬛⬛⬛⬛⬛⬛⬛⬛⬛⬛⬛                                                                  \n",
      "                                  ⬛⬛⬛⬛⬛⬛      ⬛⬛⬛⬛⬛⬛⬛⬛⬛⬛⬛⬛⬛⬛⬛⬛⬛⬛⬛⬛⬛⬛                                                                \n",
      "                                ⬛⬛⬛⬛⬛⬛⬛⬛  ⬛⬛⬛⬛⬛⬛⬛⬛⬛⬛⬛⬛⬛⬛⬛⬛⬛⬛⬛⬛⬛⬛                                                                  \n",
      "                                ⬛⬛⬛⬛⬛⬛⬛⬛⬛⬛⬛⬛⬛⬛⬛⬛⬛⬛⬛⬛⬛⬛⬛⬛⬛⬛⬛⬛⬛⬛⬛                                                                  \n",
      "                          ⬛⬛⬛⬛⬛⬛⬛⬛⬛⬛⬛⬛⬛⬛⬛⬛⬛⬛⬛⬛⬛⬛⬛⬛⬛⬛⬛⬛⬛⬛⬛⬛⬛⬛                                                                  \n",
      "⬛⬛⬛⬛⬛⬛⬛⬛⬛⬛⬛⬛⬛⬛⬛⬛⬛⬛⬛⬛⬛⬛⬛⬛⬛⬛⬛⬛⬛⬛⬛⬛⬛⬛⬛⬛⬛⬛⬛⬛⬛⬛⬛⬛⬛                                                                      \n",
      "                          ⬛⬛⬛⬛⬛⬛⬛⬛⬛⬛⬛⬛⬛⬛⬛⬛⬛⬛⬛⬛⬛⬛⬛⬛⬛⬛⬛⬛⬛⬛⬛⬛⬛⬛                                                                  \n",
      "                                ⬛⬛⬛⬛⬛⬛⬛⬛⬛⬛⬛⬛⬛⬛⬛⬛⬛⬛⬛⬛⬛⬛⬛⬛⬛⬛⬛⬛⬛⬛⬛                                                                  \n",
      "                                ⬛⬛⬛⬛⬛⬛⬛⬛  ⬛⬛⬛⬛⬛⬛⬛⬛⬛⬛⬛⬛⬛⬛⬛⬛⬛⬛⬛⬛⬛⬛                                                                  \n",
      "                                  ⬛⬛⬛⬛⬛⬛      ⬛⬛⬛⬛⬛⬛⬛⬛⬛⬛⬛⬛⬛⬛⬛⬛⬛⬛⬛⬛⬛⬛                                                                \n",
      "                                        ⬛          ⬛⬛⬛⬛⬛⬛⬛⬛⬛⬛⬛⬛⬛⬛⬛⬛⬛⬛⬛⬛⬛                                                                  \n",
      "                                                      ⬛⬛⬛⬛⬛⬛⬛⬛⬛⬛⬛⬛⬛⬛⬛⬛⬛⬛⬛⬛⬛                                                                \n",
      "                                                      ⬛⬛⬛⬛⬛⬛⬛⬛⬛⬛⬛⬛⬛⬛⬛⬛⬛⬛⬛⬛                                                                  \n",
      "                                                      ⬛⬛⬛⬛⬛⬛⬛⬛⬛⬛⬛⬛⬛⬛⬛⬛⬛⬛⬛                                                                    \n",
      "                                                          ⬛⬛⬛⬛⬛⬛⬛⬛⬛⬛⬛⬛⬛⬛⬛⬛⬛                                                                    \n",
      "                                                          ⬛⬛⬛⬛⬛⬛⬛⬛⬛⬛⬛⬛⬛⬛⬛  ⬛                                                                    \n",
      "                                                          ⬛      ⬛⬛⬛⬛⬛⬛⬛⬛⬛⬛                                                                          \n",
      "                                                                          ⬛                                                                                    \n",
      "                                                                        ⬛⬛⬛                                                                                  \n",
      "                                                                        ⬛⬛⬛                                                                                  \n",
      "                                                                        ⬛⬛⬛                                                                                  \n",
      "                                                                          ⬛                                                                                    \n",
      "                                                                                                                                                                \n",
      "                                                                                                                                                                \n",
      "                                                                                                                                                                \n",
      "                                                                                                                                                                \n",
      "                                                                                                                                                                \n",
      "                                                                                                                                                                \n"
     ]
    }
   ],
   "source": [
    "import numpy as np\n",
    "\n",
    "def mandelbrot(c, N=256):\n",
    "    z = 0\n",
    "    for _ in range(N):\n",
    "        z = z**2 + c\n",
    "        if abs(z) > 2:\n",
    "            return False\n",
    "    return True\n",
    "\n",
    "def draw_fractal(status=True):\n",
    "    for im in np.linspace(-1.2j, 1.2j, 45):\n",
    "        for re in np.linspace(-2, 2, 80):\n",
    "            c = re + im\n",
    "            if mandelbrot(c):\n",
    "                if status:\n",
    "                    print(\"⬛\", end=\"\")\n",
    "            else:\n",
    "                if status:\n",
    "                    print(\"  \", end=\"\")\n",
    "        if status:\n",
    "            print(\"\")\n",
    "\n",
    "%timeit draw_fractal(False)\n",
    "draw_fractal()"
   ]
  },
  {
   "cell_type": "markdown",
   "metadata": {},
   "source": [
    "### Performanz\n",
    "\n",
    "Momentan ist unsere Methode der Berechnung noch recht ineffizient. Bislang errechnen wir für jeden Pixel $N$ Schritte. Um Performanz zu gewinnen erstellen wir ein Feld als Matrix `C`, in welcher unsere gaußsche Zahlenebene enthalten sein wird. Anschließend erstellen wir eine Indexmatrix `I`, welche einen `bool`-Wert für jeden Punkt in `C` enthalten wird, der angibt, ob bei der letzten Berechnung von `Z` die Begrenzung von 2 überschritten wurde."
   ]
  },
  {
   "cell_type": "code",
   "execution_count": 5,
   "metadata": {},
   "outputs": [
    {
     "name": "stdout",
     "output_type": "stream",
     "text": [
      "13.3 ms ± 38.7 µs per loop (mean ± std. dev. of 7 runs, 100 loops each)\n",
      "                                                                                                                                                                \n",
      "                                                                                                                                                                \n",
      "                                                                                                                                                                \n",
      "                                                                                                                                                                \n",
      "                                                                                                                                                                \n",
      "                                                                                                                                                                \n",
      "                                                                          ⬛                                                                                    \n",
      "                                                                        ⬛⬛⬛                                                                                  \n",
      "                                                                        ⬛⬛⬛                                                                                  \n",
      "                                                                        ⬛⬛⬛                                                                                  \n",
      "                                                                          ⬛                                                                                    \n",
      "                                                          ⬛      ⬛⬛⬛⬛⬛⬛⬛⬛⬛⬛                                                                          \n",
      "                                                          ⬛⬛⬛⬛⬛⬛⬛⬛⬛⬛⬛⬛⬛⬛⬛  ⬛                                                                    \n",
      "                                                          ⬛⬛⬛⬛⬛⬛⬛⬛⬛⬛⬛⬛⬛⬛⬛⬛⬛                                                                    \n",
      "                                                      ⬛⬛⬛⬛⬛⬛⬛⬛⬛⬛⬛⬛⬛⬛⬛⬛⬛⬛⬛                                                                    \n",
      "                                                      ⬛⬛⬛⬛⬛⬛⬛⬛⬛⬛⬛⬛⬛⬛⬛⬛⬛⬛⬛⬛                                                                  \n",
      "                                                      ⬛⬛⬛⬛⬛⬛⬛⬛⬛⬛⬛⬛⬛⬛⬛⬛⬛⬛⬛⬛⬛                                                                \n",
      "                                        ⬛          ⬛⬛⬛⬛⬛⬛⬛⬛⬛⬛⬛⬛⬛⬛⬛⬛⬛⬛⬛⬛⬛                                                                  \n",
      "                                  ⬛⬛⬛⬛⬛⬛      ⬛⬛⬛⬛⬛⬛⬛⬛⬛⬛⬛⬛⬛⬛⬛⬛⬛⬛⬛⬛⬛⬛                                                                \n",
      "                                ⬛⬛⬛⬛⬛⬛⬛⬛  ⬛⬛⬛⬛⬛⬛⬛⬛⬛⬛⬛⬛⬛⬛⬛⬛⬛⬛⬛⬛⬛⬛                                                                  \n",
      "                                ⬛⬛⬛⬛⬛⬛⬛⬛⬛⬛⬛⬛⬛⬛⬛⬛⬛⬛⬛⬛⬛⬛⬛⬛⬛⬛⬛⬛⬛⬛⬛                                                                  \n",
      "                          ⬛⬛⬛⬛⬛⬛⬛⬛⬛⬛⬛⬛⬛⬛⬛⬛⬛⬛⬛⬛⬛⬛⬛⬛⬛⬛⬛⬛⬛⬛⬛⬛⬛⬛                                                                  \n",
      "  ⬛⬛⬛⬛⬛⬛⬛⬛⬛⬛⬛⬛⬛⬛⬛⬛⬛⬛⬛⬛⬛⬛⬛⬛⬛⬛⬛⬛⬛⬛⬛⬛⬛⬛⬛⬛⬛⬛⬛⬛⬛⬛⬛⬛                                                                      \n",
      "                          ⬛⬛⬛⬛⬛⬛⬛⬛⬛⬛⬛⬛⬛⬛⬛⬛⬛⬛⬛⬛⬛⬛⬛⬛⬛⬛⬛⬛⬛⬛⬛⬛⬛⬛                                                                  \n",
      "                                ⬛⬛⬛⬛⬛⬛⬛⬛⬛⬛⬛⬛⬛⬛⬛⬛⬛⬛⬛⬛⬛⬛⬛⬛⬛⬛⬛⬛⬛⬛⬛                                                                  \n",
      "                                ⬛⬛⬛⬛⬛⬛⬛⬛  ⬛⬛⬛⬛⬛⬛⬛⬛⬛⬛⬛⬛⬛⬛⬛⬛⬛⬛⬛⬛⬛⬛                                                                  \n",
      "                                  ⬛⬛⬛⬛⬛⬛      ⬛⬛⬛⬛⬛⬛⬛⬛⬛⬛⬛⬛⬛⬛⬛⬛⬛⬛⬛⬛⬛⬛                                                                \n",
      "                                        ⬛          ⬛⬛⬛⬛⬛⬛⬛⬛⬛⬛⬛⬛⬛⬛⬛⬛⬛⬛⬛⬛⬛                                                                  \n",
      "                                                      ⬛⬛⬛⬛⬛⬛⬛⬛⬛⬛⬛⬛⬛⬛⬛⬛⬛⬛⬛⬛⬛                                                                \n",
      "                                                      ⬛⬛⬛⬛⬛⬛⬛⬛⬛⬛⬛⬛⬛⬛⬛⬛⬛⬛⬛⬛                                                                  \n",
      "                                                      ⬛⬛⬛⬛⬛⬛⬛⬛⬛⬛⬛⬛⬛⬛⬛⬛⬛⬛⬛                                                                    \n",
      "                                                          ⬛⬛⬛⬛⬛⬛⬛⬛⬛⬛⬛⬛⬛⬛⬛⬛⬛                                                                    \n",
      "                                                          ⬛⬛⬛⬛⬛⬛⬛⬛⬛⬛⬛⬛⬛⬛⬛  ⬛                                                                    \n",
      "                                                          ⬛      ⬛⬛⬛⬛⬛⬛⬛⬛⬛⬛                                                                          \n",
      "                                                                          ⬛                                                                                    \n",
      "                                                                        ⬛⬛⬛                                                                                  \n",
      "                                                                        ⬛⬛⬛                                                                                  \n",
      "                                                                        ⬛⬛⬛                                                                                  \n",
      "                                                                          ⬛                                                                                    \n",
      "                                                                                                                                                                \n",
      "                                                                                                                                                                \n",
      "                                                                                                                                                                \n",
      "                                                                                                                                                                \n",
      "                                                                                                                                                                \n",
      "                                                                                                                                                                \n"
     ]
    }
   ],
   "source": [
    "def mandelbrot(C, N=256):\n",
    "    Z = np.zeros_like(C)\n",
    "    for _ in range(N):\n",
    "        I = abs(Z) <= 2.\n",
    "        Z[I] = Z[I]**2 + C[I]\n",
    "    return abs(Z) < 2\n",
    "\n",
    "def draw_fractal(status=True):\n",
    "    nx, ny = 80, 45\n",
    "    X = np.linspace(-2, 2, nx)\n",
    "    Y = np.linspace(1.2, -1.2, ny)\n",
    "    C = X + Y[:, None] * 1j\n",
    "    M = mandelbrot(C)\n",
    "\n",
    "    for y in range(ny):\n",
    "        for x in range(nx):\n",
    "            if M[y, x]:\n",
    "                if status:\n",
    "                    print(\"⬛\", end=\"\")\n",
    "            else:\n",
    "                if status:\n",
    "                    print(\"  \", end=\"\")\n",
    "        if status:\n",
    "            print(\"\")\n",
    "\n",
    "%timeit draw_fractal(False)\n",
    "draw_fractal()"
   ]
  },
  {
   "cell_type": "markdown",
   "metadata": {},
   "source": [
    "### Visualisierung\n",
    "\n",
    "Zur bildlichen Darstellung werden wir `matplotlib` verwenden. Dazu wollen wir die zurückgegebene Matrix als Zahlendatentyp erhalten und fügen deshalb `.astype(np.int)` an. Über `plt.imshow(matrix)` können wir die Mandelbrotmatrix an das `matplotlib.pyplot` Objekt übergeben. `plt.set_cmap('binary')` gibt für die graphische Darstellung die Farbpallete vor. Unter https://matplotlib.org/users/colormaps.html könnt ihr euch weitere Farben aussuchen. Dies wird jedoch erst mit dem Folgeschritt wirklich interessant."
   ]
  },
  {
   "cell_type": "code",
   "execution_count": 7,
   "metadata": {},
   "outputs": [
    {
     "data": {
      "image/png": "[encoded data removed]",
      "text/plain": [
       "<Figure size 432x288 with 1 Axes>"
      ]
     },
     "metadata": {
      "needs_background": "light"
     },
     "output_type": "display_data"
    }
   ],
   "source": [
    "def mandelbrot(C, N=256):\n",
    "    Z = np.zeros_like(C)\n",
    "    for _ in range(N):\n",
    "        I = abs(Z) <= 2.\n",
    "        Z[I] = Z[I]**2 + C[I]\n",
    "    return (abs(Z) < 2).astype(np.int)\n",
    "\n",
    "nx, ny = 0x400, 0x400\n",
    "X = np.linspace(-2, 2, nx).astype(np.float64)\n",
    "Y = np.linspace(2, -2, ny).astype(np.float64)\n",
    "C = (X + Y[:, None] * 1j).astype(np.complex128)\n",
    "M = mandelbrot(C)\n",
    "\n",
    "\n",
    "def draw_fractal(M, colour=\"binary\"):\n",
    "    plt.imshow(M, interpolation=\"nearest\")\n",
    "    plt.set_cmap(colour)\n",
    "\n",
    "    # Plot formatting\n",
    "    plt.xticks(list(range(0, nx, nx//4)), list(\"${}$\".format(x) for x in range(-2, 3)))\n",
    "    plt.yticks(list(range(0, ny, ny//4)), list(\"${}j$\".format(-y) for y in range(-2, 3)))\n",
    "    plt.tick_params(labelsize=16)\n",
    "\n",
    "    #plt.colorbar()\n",
    "    plt.show()\n",
    "\n",
    "draw_fractal(M)"
   ]
  },
  {
   "cell_type": "markdown",
   "metadata": {},
   "source": [
    "### Farben\n",
    "\n",
    "Um unsere Graphik zu kolorieren wollen wir den Punkten außerhalb von $\\mathrm{\\hat{M}}$ einen Farbwert zuordnen. Dies tun wir indem wir uns für jeden Punkt merken, ab welcher Iteration er die Begrenzung überschreitet $n$. Anhand dieser Werte können wir nun jedem Punkt eine Farbe zuordnen. Um eine preziesere Farbverteilung zu erhalten setzten wir unsere Begrenzung `horizon` hoch."
   ]
  },
  {
   "cell_type": "code",
   "execution_count": 8,
   "metadata": {},
   "outputs": [
    {
     "name": "stderr",
     "output_type": "stream",
     "text": [
      "/usr/lib/python3.7/site-packages/ipykernel_launcher.py:9: ComplexWarning: Casting complex values to real discards the imaginary part\n",
      "  if __name__ == '__main__':\n"
     ]
    },
    {
     "data": {
      "image/png": "[encoded data removed]",
      "text/plain": [
       "<Figure size 432x288 with 1 Axes>"
      ]
     },
     "metadata": {
      "needs_background": "light"
     },
     "output_type": "display_data"
    }
   ],
   "source": [
    "def mandelbrot(C, N=256, horizon=0x1000):\n",
    "    Z = np.zeros_like(C)\n",
    "    N_ = np.zeros_like(C)\n",
    "    for n in range(N):\n",
    "        I = abs(Z) <= horizon\n",
    "        Z[I] = Z[I]**2 + C[I]\n",
    "        N_[I] = n\n",
    "    N_[I] = 16\n",
    "    return N_.astype(np.float64)\n",
    "\n",
    "M = mandelbrot(C)\n",
    "draw_fractal(M, \"flag\")"
   ]
  },
  {
   "cell_type": "markdown",
   "metadata": {},
   "source": [
    "### Smooth colouring algorithm\n",
    "\n",
    "Um den Übergang zwischen den Farbbahnen fließend zu gestalten verwenden wir den *Smoothcolouring Algorithmus*. Dieser normalisiert die ganzzahligen Werte aus $n$. Liegt es wird jedem Punkt ein Wert im Intervall $[0, 1]$ aufaddiert abhängig davon ob er näher an der Innenkante oder der Außenkante seiner Farbbahn liegt. Den normalisierten Wert erhalten wir durch die folgende Formel:\n",
    "\n",
    "$$\\mathscr{v}(z) = n + 1 - \\log_{P}\\left(\n",
    " \\frac{\\log|z|}\n",
    "{\\log(N)}\\right)$$\n",
    "\n",
    "Wobei $n$ unsere für jeden Punkt erreichte Anzahl an Iterationen, $N$ unsere maximal Anzahl an Iterationen, $P$ unser Exponent in der Mandelbrotformel $z_{n+1} = z_{n}^{P}+c$ mit $P=2$ und $z$ unser letztes Sequenzelement ist. Zu guter Letzt verwenden wir noch einen weiteren Logarithmus, um die Farbpallette noch ein wenig zu strecken.\n",
    "\n",
    "\n",
    "#### Anmerkung\n",
    ">Mit anderen Werten für $P$ lassen sich weitere Fraktale der selben Familie bilden."
   ]
  },
  {
   "cell_type": "code",
   "execution_count": null,
   "metadata": {
    "scrolled": false
   },
   "outputs": [
    {
     "name": "stderr",
     "output_type": "stream",
     "text": [
      "/usr/lib/python3.7/site-packages/ipykernel_launcher.py:22: ComplexWarning: Casting complex values to real discards the imaginary part\n"
     ]
    },
    {
     "data": {
      "image/png": "[encoded data removed]",
      "text/plain": [
       "<Figure size 432x288 with 1 Axes>"
      ]
     },
     "metadata": {
      "needs_background": "light"
     },
     "output_type": "display_data"
    }
   ],
   "source": [
    "def mandelbrot(C, N=0x200, horizon=0x1000):\n",
    "    Z = np.zeros_like(C)\n",
    "    N_ = np.zeros_like(C)\n",
    "    for n in range(N):\n",
    "        I = abs(Z) <= horizon\n",
    "        Z[I] = Z[I]**2 + C[I]\n",
    "        N_[I] = n\n",
    "    N_[I] = 0\n",
    "    return I, N_, Z\n",
    "\n",
    "def smooth_colour(Z, N_):\n",
    "    with np.errstate(invalid='ignore'):\n",
    "        return np.nan_to_num(N_ + 1 - np.log2(np.log(np.abs(Z))/np.log(0x1000)))\n",
    "\n",
    "def strech_pallette(M):\n",
    "    return np.log(np.log(M + 0x14)+0x100)\n",
    "\n",
    "def interpolate(a, b, c):\n",
    "    return a + (b-a)*c\n",
    "\n",
    "I, N_, Z = mandelbrot(C)\n",
    "M = smooth_colour(Z, N_).astype(np.float64)\n",
    "\n",
    "# Streching pallette\n",
    "M = strech_pallette(M)\n",
    "\n",
    "# Coloring interior black\n",
    "M[I] = np.min(M)\n",
    "\n",
    "draw_fractal(M, \"inferno\") # inferno, magma, viridis, ocean, hot, winter, rainbow, gist_stern, gnu_plot"
   ]
  }
 ],
 "metadata": {
  "kernelspec": {
   "display_name": "Python 3",
   "language": "python",
   "name": "python3"
  },
  "language_info": {
   "codemirror_mode": {
    "name": "ipython",
    "version": 3
   },
   "file_extension": ".py",
   "mimetype": "text/x-python",
   "name": "python",
   "nbconvert_exporter": "python",
   "pygments_lexer": "ipython3",
   "version": "3.7.4"
  }
 },
 "nbformat": 4,
 "nbformat_minor": 2
}
